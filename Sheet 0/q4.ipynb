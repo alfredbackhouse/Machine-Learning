{
 "cells": [
  {
   "cell_type": "code",
   "execution_count": 35,
   "metadata": {},
   "outputs": [],
   "source": [
    "import numpy as np\n",
    "from scipy import stats as st\n",
    "scores = np.array([6.0,7.0,5.0,3.0,8.0])"
   ]
  },
  {
   "cell_type": "code",
   "execution_count": 36,
   "metadata": {},
   "outputs": [
    {
     "name": "stdout",
     "output_type": "stream",
     "text": [
      "5.8 ModeResult(mode=array([3.]), count=array([1])) 2.96 1.7204650534085253\n"
     ]
    },
    {
     "name": "stderr",
     "output_type": "stream",
     "text": [
      "/var/folders/8f/dj6l0c6d1gz1wr69wgspd05c0000gn/T/ipykernel_72003/2512361752.py:2: FutureWarning: Unlike other reduction functions (e.g. `skew`, `kurtosis`), the default behavior of `mode` typically preserves the axis it acts along. In SciPy 1.11.0, this behavior will change: the default value of `keepdims` will become False, the `axis` over which the statistic is taken will be eliminated, and the value None will no longer be accepted. Set `keepdims` to True or False to avoid this warning.\n",
      "  mode = st.mode(scores)\n"
     ]
    }
   ],
   "source": [
    "mean = np.mean(scores) \n",
    "mode = st.mode(scores) \n",
    "variance = np.var(scores) \n",
    "sd = np.power(variance, 0.5)\n",
    "print(mean, mode, variance, sd)"
   ]
  },
  {
   "cell_type": "code",
   "execution_count": 37,
   "metadata": {},
   "outputs": [],
   "source": [
    "def mean_of_squares(arr): \n",
    "  total = 0.0\n",
    "  for elem in arr:\n",
    "    total += np.power(elem, 2) \n",
    "  return total / arr.size"
   ]
  },
  {
   "cell_type": "code",
   "execution_count": 38,
   "metadata": {},
   "outputs": [],
   "source": [
    "def variance(arr): \n",
    "  return mean_of_squares(arr) - np.power(np.mean(arr), 2) "
   ]
  },
  {
   "cell_type": "code",
   "execution_count": 39,
   "metadata": {},
   "outputs": [
    {
     "name": "stdout",
     "output_type": "stream",
     "text": [
      "2.960000000000001\n"
     ]
    }
   ],
   "source": [
    "print(variance(scores))"
   ]
  },
  {
   "cell_type": "code",
   "execution_count": 40,
   "metadata": {},
   "outputs": [],
   "source": [
    "def standardize(arr):\n",
    "  local_mean = np.mean(arr) \n",
    "  local_st = np.power(variance(arr), 0.5) \n",
    "  print(local_mean, local_st)\n",
    "  for i in range(arr.size): \n",
    "    arr[i] = float((arr[i] - local_mean)) / float(local_st)\n",
    "  return arr"
   ]
  },
  {
   "cell_type": "code",
   "execution_count": 41,
   "metadata": {},
   "outputs": [
    {
     "name": "stdout",
     "output_type": "stream",
     "text": [
      "5.8 1.7204650534085255\n"
     ]
    }
   ],
   "source": [
    "st_scores = standardize(scores) "
   ]
  },
  {
   "cell_type": "code",
   "execution_count": 42,
   "metadata": {},
   "outputs": [
    {
     "name": "stdout",
     "output_type": "stream",
     "text": [
      "[ 0.11624764  0.69748583 -0.46499055 -1.62746694  1.27872403] [ 0.11624764  0.69748583 -0.46499055 -1.62746694  1.27872403]\n"
     ]
    }
   ],
   "source": [
    "print(scores, st_scores)"
   ]
  },
  {
   "cell_type": "code",
   "execution_count": null,
   "metadata": {},
   "outputs": [],
   "source": []
  }
 ],
 "metadata": {
  "kernelspec": {
   "display_name": "Python 3.9.13 ('ml')",
   "language": "python",
   "name": "python3"
  },
  "language_info": {
   "codemirror_mode": {
    "name": "ipython",
    "version": 3
   },
   "file_extension": ".py",
   "mimetype": "text/x-python",
   "name": "python",
   "nbconvert_exporter": "python",
   "pygments_lexer": "ipython3",
   "version": "3.9.13"
  },
  "orig_nbformat": 4,
  "vscode": {
   "interpreter": {
    "hash": "ed5c1a1ad561e0afffc42f379776c2e7d64ddb41c9e6a911ce7db5acc378e805"
   }
  }
 },
 "nbformat": 4,
 "nbformat_minor": 2
}
