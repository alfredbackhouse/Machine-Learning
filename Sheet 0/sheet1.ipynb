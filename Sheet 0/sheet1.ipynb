{
 "cells": [
  {
   "cell_type": "code",
   "execution_count": 2,
   "metadata": {},
   "outputs": [],
   "source": [
    "import scipy as sp\n",
    "import numpy as np\n"
   ]
  },
  {
   "cell_type": "code",
   "execution_count": 3,
   "metadata": {},
   "outputs": [
    {
     "name": "stdout",
     "output_type": "stream",
     "text": [
      "[inf inf]\n"
     ]
    },
    {
     "name": "stderr",
     "output_type": "stream",
     "text": [
      "/var/folders/8f/dj6l0c6d1gz1wr69wgspd05c0000gn/T/ipykernel_23742/286330517.py:4: IntegrationWarning: The algorithm does not converge.  Roundoff error is detected\n",
      "  in the extrapolation table.  It is assumed that the requested tolerance\n",
      "  cannot be achieved, and that the returned result (if full_output = 1) is \n",
      "  the best which can be obtained.\n",
      "  print(np.power(sp.integrate.quad(lambda x : x * cdf(x), -np.inf, np.inf), 10000) )\n",
      "/var/folders/8f/dj6l0c6d1gz1wr69wgspd05c0000gn/T/ipykernel_23742/286330517.py:4: RuntimeWarning: overflow encountered in power\n",
      "  print(np.power(sp.integrate.quad(lambda x : x * cdf(x), -np.inf, np.inf), 10000) )\n"
     ]
    }
   ],
   "source": [
    "def cdf(x):\n",
    "  return sp.stats.norm.cdf(x, 5000, np.power(2500,2))\n",
    "\n",
    "print(np.power(sp.integrate.quad(lambda x : x * cdf(x), -np.inf, np.inf), 10000) )"
   ]
  },
  {
   "cell_type": "code",
   "execution_count": null,
   "metadata": {},
   "outputs": [],
   "source": [
    "\n"
   ]
  },
  {
   "cell_type": "code",
   "execution_count": 4,
   "metadata": {},
   "outputs": [
    {
     "data": {
      "text/plain": [
       "116.29173467323461"
      ]
     },
     "execution_count": 4,
     "metadata": {},
     "output_type": "execute_result"
    }
   ],
   "source": [
    "(2.3263 * np.sqrt(24.99)) / 0.1"
   ]
  },
  {
   "cell_type": "code",
   "execution_count": 7,
   "metadata": {},
   "outputs": [
    {
     "data": {
      "text/plain": [
       "505.55555555555554"
      ]
     },
     "execution_count": 7,
     "metadata": {},
     "output_type": "execute_result"
    }
   ],
   "source": [
    "(91 * 1000) / 180.0\n"
   ]
  },
  {
   "cell_type": "code",
   "execution_count": 8,
   "metadata": {},
   "outputs": [
    {
     "data": {
      "text/plain": [
       "5.94883997620464"
      ]
     },
     "execution_count": 8,
     "metadata": {},
     "output_type": "execute_result"
    }
   ],
   "source": [
    "10000 / (np.power(41, 2))"
   ]
  },
  {
   "cell_type": "code",
   "execution_count": null,
   "metadata": {},
   "outputs": [],
   "source": []
  }
 ],
 "metadata": {
  "kernelspec": {
   "display_name": "Python 3.9.13 ('ml')",
   "language": "python",
   "name": "python3"
  },
  "language_info": {
   "codemirror_mode": {
    "name": "ipython",
    "version": 3
   },
   "file_extension": ".py",
   "mimetype": "text/x-python",
   "name": "python",
   "nbconvert_exporter": "python",
   "pygments_lexer": "ipython3",
   "version": "3.9.13"
  },
  "orig_nbformat": 4,
  "vscode": {
   "interpreter": {
    "hash": "ed5c1a1ad561e0afffc42f379776c2e7d64ddb41c9e6a911ce7db5acc378e805"
   }
  }
 },
 "nbformat": 4,
 "nbformat_minor": 2
}
