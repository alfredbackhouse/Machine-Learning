{
 "cells": [
  {
   "cell_type": "code",
   "execution_count": 107,
   "metadata": {},
   "outputs": [],
   "source": [
    "# import modules (pickle is built in to python)  \n",
    "import _pickle as cp \n",
    "import numpy as np\n",
    "import matplotlib.pyplot as plt \n",
    "import scipy as sp\n",
    "import pandas as pd\n",
    "\n",
    "\n",
    "# load data from first file \n",
    "X, y = cp.load(open('winequality-white.pickle', 'rb'))\n"
   ]
  },
  {
   "cell_type": "code",
   "execution_count": 108,
   "metadata": {},
   "outputs": [],
   "source": [
    "# split the data into test and train partition\n",
    "N, D = X.shape\n",
    "N_train = int(0.8 * N)\n",
    "N_test = N - N_train\n",
    "X_train = X[:N_train]\n",
    "y_train = y[:N_train]\n",
    "X_test = X[N_train:]\n",
    "y_test = y[N_train:]"
   ]
  },
  {
   "cell_type": "code",
   "execution_count": 109,
   "metadata": {},
   "outputs": [
    {
     "name": "stdout",
     "output_type": "stream",
     "text": [
      "Trivial prediction:  5.878764675855028\n"
     ]
    },
    {
     "data": {
      "image/png": "[encoded data removed]",
      "text/plain": [
       "<Figure size 640x480 with 1 Axes>"
      ]
     },
     "metadata": {},
     "output_type": "display_data"
    }
   ],
   "source": [
    "# plot the y values on a bar chart \n",
    "pd.Series(y_train).value_counts().sort_index().plot(kind='bar')\n",
    "\n",
    "# predict the average of the dataset\n",
    "trivial_pred = np.mean(y_train) \n",
    "print(\"Trivial prediction: \", trivial_pred)"
   ]
  },
  {
   "cell_type": "code",
   "execution_count": 110,
   "metadata": {},
   "outputs": [],
   "source": [
    "# mean squared error\n",
    "def mse(actual, predictions) : \n",
    "    return np.mean((actual - predictions)**2)\n"
   ]
  },
  {
   "cell_type": "code",
   "execution_count": 111,
   "metadata": {},
   "outputs": [
    {
     "name": "stdout",
     "output_type": "stream",
     "text": [
      "mse of training data:  0.7767772386501117\n",
      "mse of test data:  0.8138573000045535\n"
     ]
    }
   ],
   "source": [
    "# mse of the trivial prediction (sets the baseline)\n",
    "print(\"mse of training data: \", mse(y_train, trivial_pred))\n",
    "print(\"mse of test data: \", mse(y_test, trivial_pred))"
   ]
  },
  {
   "cell_type": "code",
   "execution_count": 114,
   "metadata": {},
   "outputs": [],
   "source": [
    "# return the train and test data, normalized and with bias terms\n",
    "def norm_and_bias(train, test): \n",
    "    std, mean = np.std(train, axis = 0), np.mean(train, axis = 0)\n",
    "    train_norm, test_norm = (train-mean) / std, (test - mean) / std\n",
    "    ones_train, ones_test = np.ones((len(train), 1)), np.ones((len(test), 1))\n",
    "    train_final, test_final = np.hstack((ones_train, train)), np.hstack((ones_test, test))\n",
    "    return train_final, test_final \n",
    "\n",
    "# calculate the weights given norm and biased X, with y \n",
    "def linear_reg_weights(X, y): \n",
    "    Xt = np.transpose(X)\n",
    "    Xs = np.linalg.inv( Xt @ X) @ Xt\n",
    "    w = Xs @ y\n",
    "    return w\n",
    "\n",
    "# predict y values from data and learned weights \n",
    "def linear_reg_pred(X,w): \n",
    "    return X @ w  \n",
    "\n",
    "# calcuate loss function given inputs, actual outputs and weights\n",
    "# returns mean squared error * 1/2\n",
    "def linear_reg_loss(X, y, w): \n",
    "    error = X@w - y\n",
    "    return (1/(2*len(X))) * np.transpose(error) @ error\n",
    "\n",
    "def calc_train_and_test_loss_from_scratch(X_train, X_test, y_train, y_test):\n",
    "    # normalized and add biases to train and test data\n",
    "    X_train_norm, X_test_norm = norm_and_bias(X_train, X_test)\n",
    "\n",
    "    # calculate weights\n",
    "    w = linear_reg_weights(X_train_norm, y_train)   \n",
    "\n",
    "    # calculate loss for train and test\n",
    "    L_train = linear_reg_loss(X_train_norm, y_train, w) \n",
    "    L_test = linear_reg_loss(X_test_norm, y_test, w) \n",
    "\n",
    "    return L_train, L_test"
   ]
  },
  {
   "cell_type": "code",
   "execution_count": 115,
   "metadata": {},
   "outputs": [
    {
     "name": "stdout",
     "output_type": "stream",
     "text": [
      "MSE for train data:  0.5639996173941932\n",
      "MSE for test data:  0.5607292041819442\n"
     ]
    }
   ],
   "source": [
    "L_train, L_test = calc_train_and_test_loss_from_scratch(X_train, X_test, y_train, y_test)\n",
    "# scale loss function by factor of 2 to give MSE\n",
    "print(\"MSE for train data: \", 2*L_train)\n",
    "print(\"MSE for test data: \", 2*L_test)"
   ]
  },
  {
   "cell_type": "code",
   "execution_count": null,
   "metadata": {},
   "outputs": [],
   "source": [
    "for i in range(20, 620, 20): \n",
    "    X_train_n = X_train[:i]\n",
    "    y_train_n = y_train[:i]\n",
    "\n",
    "    L_train, L_test = calc_train_and_test_loss_from_scratch(X_train_n, y_train_n, )"
   ]
  },
  {
   "cell_type": "code",
   "execution_count": null,
   "metadata": {},
   "outputs": [],
   "source": []
  }
 ],
 "metadata": {
  "kernelspec": {
   "display_name": "Python 3.10.7 64-bit",
   "language": "python",
   "name": "python3"
  },
  "language_info": {
   "codemirror_mode": {
    "name": "ipython",
    "version": 3
   },
   "file_extension": ".py",
   "mimetype": "text/x-python",
   "name": "python",
   "nbconvert_exporter": "python",
   "pygments_lexer": "ipython3",
   "version": "3.10.7"
  },
  "orig_nbformat": 4,
  "vscode": {
   "interpreter": {
    "hash": "767d51c1340bd893661ea55ea3124f6de3c7a262a8b4abca0554b478b1e2ff90"
   }
  }
 },
 "nbformat": 4,
 "nbformat_minor": 2
}
